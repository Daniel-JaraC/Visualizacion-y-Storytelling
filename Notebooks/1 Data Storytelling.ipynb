{
 "cells": [
  {
   "cell_type": "markdown",
   "metadata": {},
   "source": [
    "# No seas solamente un científico de datos!"
   ]
  },
  {
   "cell_type": "markdown",
   "metadata": {
    "collapsed": true
   },
   "source": [
    "<p style='text-align: justify;'>El llamado Data Storytelling no es más que un enfoque estructurado sobre cómo comunicamos <b>insights a partir de los datos</b>, e involucra una combinación de tres elementos: datos, visualización y narrativa.</p> "
   ]
  },
  {
   "cell_type": "markdown",
   "metadata": {},
   "source": [
    "https://www.forbes.com/sites/brentdykes/2016/03/31/data-storytelling-the-essential-data-science-skill-everyone-needs/#fc37b0652ad4"
   ]
  },
  {
   "cell_type": "markdown",
   "metadata": {},
   "source": [
    "- Narrativa + Datos = Explicación.\n",
    "- Visualización + Datos = Iluminación.\n",
    "- Narrativa + Visualización = Entretenimiento e interés."
   ]
  },
  {
   "cell_type": "markdown",
   "metadata": {},
   "source": [
    "<center><img src=\"img/forbes1.png\" width = \"100%\"></center>"
   ]
  },
  {
   "cell_type": "markdown",
   "metadata": {},
   "source": [
    "- Visualización + Narrativa + Datos = Cambios."
   ]
  },
  {
   "cell_type": "markdown",
   "metadata": {},
   "source": [
    "<center><img src=\"img/forbes2.png\" width = \"50%\"></center>"
   ]
  },
  {
   "cell_type": "markdown",
   "metadata": {},
   "source": [
    "# ¿Qué podemos lograr con lo anterior?"
   ]
  },
  {
   "cell_type": "markdown",
   "metadata": {},
   "source": [
    "- Comprensión rápida de la información.\n",
    "- Identificación oportuna de las tendencias.\n",
    "- Identificación de patrones y relaciones entre los datos.\n",
    "- Contar tu historia y compartir tu información.\n",
    "- Generar un nuevo esquema de negocios.\n",
    "- Mejorar el proceso de toma de decisiones.\n",
    "- Reducir el tiempo y el costo que se utiliza para analizar la información."
   ]
  },
  {
   "cell_type": "markdown",
   "metadata": {},
   "source": [
    "# Consejos generales."
   ]
  },
  {
   "cell_type": "markdown",
   "metadata": {},
   "source": [
    "1) Simplificar los datos y presentar solamente la información y variables adecuadas.\n",
    "\n",
    "2) Intentar resumir toda la información en pocas imágenes con la finalidad de poder comparar fácilmente los datos y evitar errores relacionados con la memoria.\n",
    "\n",
    "3) Elegir la mejor manera de como poder representar la información para captar mejor la atención de los interesados.\n",
    "\n",
    "4) Presentar los mismos datos utilizando diversas representaciones pueden ayudar a los investigadores a generar nuevas conclusiones.\n",
    "\n",
    "5) La representación de los datos seleccionada debe siempre ser simple y debe tener una fácil interpretación."
   ]
  },
  {
   "cell_type": "markdown",
   "metadata": {},
   "source": [
    "# Alternativas de visualización."
   ]
  },
  {
   "cell_type": "markdown",
   "metadata": {},
   "source": [
    "<center><img src=\"img/Graph.jpeg\" width = \"100%\"></center>"
   ]
  },
  {
   "cell_type": "markdown",
   "metadata": {},
   "source": [
    "https://towardsdatascience.com/data-visualization-with-mathplotlib-using-python-a7bfb4628ee3"
   ]
  },
  {
   "cell_type": "markdown",
   "metadata": {},
   "source": [
    "# Galerías de ejemplos"
   ]
  },
  {
   "cell_type": "markdown",
   "metadata": {},
   "source": [
    "https://matplotlib.org/gallery/index.html"
   ]
  },
  {
   "cell_type": "markdown",
   "metadata": {},
   "source": [
    "https://seaborn.pydata.org/examples/index.html"
   ]
  },
  {
   "cell_type": "markdown",
   "metadata": {},
   "source": [
    "# Tutoriales"
   ]
  },
  {
   "cell_type": "markdown",
   "metadata": {},
   "source": [
    "https://matplotlib.org/tutorials/index.html"
   ]
  },
  {
   "cell_type": "markdown",
   "metadata": {},
   "source": [
    "https://seaborn.pydata.org/tutorial.html"
   ]
  },
  {
   "cell_type": "code",
   "execution_count": null,
   "metadata": {},
   "outputs": [],
   "source": []
  }
 ],
 "metadata": {
  "kernelspec": {
   "display_name": "Python 3",
   "language": "python",
   "name": "python3"
  },
  "language_info": {
   "codemirror_mode": {
    "name": "ipython",
    "version": 3
   },
   "file_extension": ".py",
   "mimetype": "text/x-python",
   "name": "python",
   "nbconvert_exporter": "python",
   "pygments_lexer": "ipython3",
   "version": "3.8.8"
  }
 },
 "nbformat": 4,
 "nbformat_minor": 2
}
