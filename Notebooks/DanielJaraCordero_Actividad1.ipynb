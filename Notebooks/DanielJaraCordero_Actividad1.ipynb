{
 "cells": [
  {
   "cell_type": "markdown",
   "metadata": {},
   "source": [
    "__Instrucción 1__\n",
    "\n",
    "<p style='text-align: justify;'>Abre el archivo \"df.csv\" en tu libreta de Jupyter.</p>"
   ]
  },
  {
   "cell_type": "code",
   "execution_count": 1,
   "metadata": {},
   "outputs": [],
   "source": [
    "import pandas as pd"
   ]
  },
  {
   "cell_type": "code",
   "execution_count": 2,
   "metadata": {},
   "outputs": [
    {
     "data": {
      "text/html": [
       "<div>\n",
       "<style scoped>\n",
       "    .dataframe tbody tr th:only-of-type {\n",
       "        vertical-align: middle;\n",
       "    }\n",
       "\n",
       "    .dataframe tbody tr th {\n",
       "        vertical-align: top;\n",
       "    }\n",
       "\n",
       "    .dataframe thead th {\n",
       "        text-align: right;\n",
       "    }\n",
       "</style>\n",
       "<table border=\"1\" class=\"dataframe\">\n",
       "  <thead>\n",
       "    <tr style=\"text-align: right;\">\n",
       "      <th></th>\n",
       "      <th>Country</th>\n",
       "      <th>Under $1.9</th>\n",
       "      <th>Under $3.2</th>\n",
       "      <th>Under $5.5</th>\n",
       "      <th>Continent</th>\n",
       "    </tr>\n",
       "  </thead>\n",
       "  <tbody>\n",
       "    <tr>\n",
       "      <th>0</th>\n",
       "      <td>Albania</td>\n",
       "      <td>1.1</td>\n",
       "      <td>7.7</td>\n",
       "      <td>39.1</td>\n",
       "      <td>Europe</td>\n",
       "    </tr>\n",
       "    <tr>\n",
       "      <th>1</th>\n",
       "      <td>Algeria</td>\n",
       "      <td>0.5</td>\n",
       "      <td>3.9</td>\n",
       "      <td>29.2</td>\n",
       "      <td>Africa</td>\n",
       "    </tr>\n",
       "    <tr>\n",
       "      <th>2</th>\n",
       "      <td>Angola</td>\n",
       "      <td>30.1</td>\n",
       "      <td>55.7</td>\n",
       "      <td>79.4</td>\n",
       "      <td>Africa</td>\n",
       "    </tr>\n",
       "    <tr>\n",
       "      <th>3</th>\n",
       "      <td>Argentina</td>\n",
       "      <td>0.4</td>\n",
       "      <td>2.0</td>\n",
       "      <td>7.1</td>\n",
       "      <td>South America</td>\n",
       "    </tr>\n",
       "    <tr>\n",
       "      <th>4</th>\n",
       "      <td>Armenia</td>\n",
       "      <td>1.4</td>\n",
       "      <td>12.3</td>\n",
       "      <td>50.0</td>\n",
       "      <td>Europe</td>\n",
       "    </tr>\n",
       "  </tbody>\n",
       "</table>\n",
       "</div>"
      ],
      "text/plain": [
       "     Country  Under $1.9  Under $3.2  Under $5.5      Continent\n",
       "0    Albania         1.1         7.7        39.1         Europe\n",
       "1    Algeria         0.5         3.9        29.2         Africa\n",
       "2     Angola        30.1        55.7        79.4         Africa\n",
       "3  Argentina         0.4         2.0         7.1  South America\n",
       "4    Armenia         1.4        12.3        50.0         Europe"
      ]
     },
     "execution_count": 2,
     "metadata": {},
     "output_type": "execute_result"
    }
   ],
   "source": [
    "df = pd.read_csv('df.csv')\n",
    "# Para confirmar que se abrió el archivo correcto usé head().\n",
    "df.head()"
   ]
  },
  {
   "cell_type": "markdown",
   "metadata": {},
   "source": [
    "__Instrucción 2__\n",
    "\n",
    "<p style='text-align: justify;'>Muestra las primeras 5 filas de tu DataFrame.</p>"
   ]
  },
  {
   "cell_type": "code",
   "execution_count": 3,
   "metadata": {},
   "outputs": [
    {
     "data": {
      "text/html": [
       "<div>\n",
       "<style scoped>\n",
       "    .dataframe tbody tr th:only-of-type {\n",
       "        vertical-align: middle;\n",
       "    }\n",
       "\n",
       "    .dataframe tbody tr th {\n",
       "        vertical-align: top;\n",
       "    }\n",
       "\n",
       "    .dataframe thead th {\n",
       "        text-align: right;\n",
       "    }\n",
       "</style>\n",
       "<table border=\"1\" class=\"dataframe\">\n",
       "  <thead>\n",
       "    <tr style=\"text-align: right;\">\n",
       "      <th></th>\n",
       "      <th>Country</th>\n",
       "      <th>Under $1.9</th>\n",
       "      <th>Under $3.2</th>\n",
       "      <th>Under $5.5</th>\n",
       "      <th>Continent</th>\n",
       "    </tr>\n",
       "  </thead>\n",
       "  <tbody>\n",
       "    <tr>\n",
       "      <th>0</th>\n",
       "      <td>Albania</td>\n",
       "      <td>1.1</td>\n",
       "      <td>7.7</td>\n",
       "      <td>39.1</td>\n",
       "      <td>Europe</td>\n",
       "    </tr>\n",
       "    <tr>\n",
       "      <th>1</th>\n",
       "      <td>Algeria</td>\n",
       "      <td>0.5</td>\n",
       "      <td>3.9</td>\n",
       "      <td>29.2</td>\n",
       "      <td>Africa</td>\n",
       "    </tr>\n",
       "    <tr>\n",
       "      <th>2</th>\n",
       "      <td>Angola</td>\n",
       "      <td>30.1</td>\n",
       "      <td>55.7</td>\n",
       "      <td>79.4</td>\n",
       "      <td>Africa</td>\n",
       "    </tr>\n",
       "    <tr>\n",
       "      <th>3</th>\n",
       "      <td>Argentina</td>\n",
       "      <td>0.4</td>\n",
       "      <td>2.0</td>\n",
       "      <td>7.1</td>\n",
       "      <td>South America</td>\n",
       "    </tr>\n",
       "    <tr>\n",
       "      <th>4</th>\n",
       "      <td>Armenia</td>\n",
       "      <td>1.4</td>\n",
       "      <td>12.3</td>\n",
       "      <td>50.0</td>\n",
       "      <td>Europe</td>\n",
       "    </tr>\n",
       "  </tbody>\n",
       "</table>\n",
       "</div>"
      ],
      "text/plain": [
       "     Country  Under $1.9  Under $3.2  Under $5.5      Continent\n",
       "0    Albania         1.1         7.7        39.1         Europe\n",
       "1    Algeria         0.5         3.9        29.2         Africa\n",
       "2     Angola        30.1        55.7        79.4         Africa\n",
       "3  Argentina         0.4         2.0         7.1  South America\n",
       "4    Armenia         1.4        12.3        50.0         Europe"
      ]
     },
     "execution_count": 3,
     "metadata": {},
     "output_type": "execute_result"
    }
   ],
   "source": [
    "df.head()"
   ]
  },
  {
   "cell_type": "markdown",
   "metadata": {},
   "source": [
    "__Instrucción 3__\n",
    "\n",
    "<p style='text-align: justify;'>Importa la paquetería MATPLOTLIB y escribe la instrucción correcta para que las gráficas se visualicen en la libreta</p>"
   ]
  },
  {
   "cell_type": "code",
   "execution_count": 4,
   "metadata": {},
   "outputs": [],
   "source": [
    "import matplotlib.pyplot as plt\n",
    "%matplotlib inline"
   ]
  },
  {
   "cell_type": "markdown",
   "metadata": {},
   "source": [
    "__Instrucción 4__\n",
    "\n",
    "<p style='text-align: justify;'>Elabora un histograma en el que se observe la distribución de datos de la población por país que vive con menos de 1.9 dólares al día. El histograma debe contener los siguiente elementos:\n",
    "\n",
    "i. Título\n",
    "\n",
    "ii. Colores Personalizados.\n",
    "\n",
    "iii. Títulos de los ejes.\n",
    "\n",
    "</p>\n",
    "\n",
    "__Guarda el histograma con el título \"Hist_190_\"Nombre del alumno\"\" utilizando la instrucción \"plt.savefig('Hist_190_\"Nombre del alumno.png\")\" de la librería \"matplotlib\". Esta última instrucción la tienes que colocar antes de escribir \"plt.show()\".__"
   ]
  },
  {
   "cell_type": "code",
   "execution_count": 7,
   "metadata": {},
   "outputs": [
    {
     "data": {
      "image/png": "[encoded data removed]",
      "text/plain": [
       "<Figure size 720x360 with 1 Axes>"
      ]
     },
     "metadata": {
      "needs_background": "light"
     },
     "output_type": "display_data"
    }
   ],
   "source": [
    "#Para mostrar un grid más detallado importé lo siguiente\n",
    "from matplotlib.ticker import (AutoMinorLocator, MultipleLocator)\n",
    "\n",
    "#Defino la figura y su tamaño\n",
    "fig, ax= plt.subplots(figsize=(10,5))\n",
    "\n",
    "# En el eje x tendremos los % de la población que vive con menos de $1.9. \n",
    "x = df.iloc[:,1]\n",
    "\n",
    "# Creamos el histograma, definí que tuviera 15 barras para que se viera un poco más detallada.\n",
    "plt.hist(x, bins=15, color='Orange')\n",
    "\n",
    "# Para hacer un grid que muestre líneas gruesas cada 20\n",
    "ax.xaxis.set_major_locator(MultipleLocator(20))\n",
    "ax.yaxis.set_major_locator(MultipleLocator(20))\n",
    "\n",
    "# Mostrará líneas más delgadas cada 5 \n",
    "ax.xaxis.set_minor_locator(AutoMinorLocator(4))\n",
    "ax.yaxis.set_minor_locator(AutoMinorLocator(4))\n",
    "\n",
    "# Para definir qué líneas quiero que se vean y qué tan fuerte quiero que se marquen\n",
    "ax.grid(which='minor', alpha=0.4)\n",
    "ax.grid(which='major', alpha=0.9)\n",
    "\n",
    "# Asigno un título, nombres a los ejes y muestro el resultado\n",
    "plt.title('Cantidad de países vs % de la Población que vive con menos de $1.9')\n",
    "plt.xlabel('% De la población')\n",
    "plt.ylabel('Número de países')\n",
    "plt.savefig('Hist_190_DanielJaraCordero.png')\n",
    "plt.show()\n"
   ]
  },
  {
   "cell_type": "markdown",
   "metadata": {},
   "source": [
    "__Instrucción 5__\n",
    "\n",
    "<p style='text-align: justify;'>Para cada uno de los tres indicadores utiliza la librería \"seaborn\" para realizar una gráfica de cajas separando la información por continente. Cada una de las ráficas generadas deben ser similares a la siguiente visualización.\n",
    "    \n",
    "</p>\n",
    "\n",
    "__Guarda cada una de las gráficas de caja con el título 'Cajas_190_\"Nombre del alumno_#deimagen' utilizando la instrucción \"plt.savefig('Cajas_190_\"Nombre del alumno_#deimagen.png')\" de la librería \"matplotlib\". Esta última instrucción la tienes que colocar antes de escribir \"plt.show()\"-__\n",
    "\n",
    "</p>   \n",
    "<center><img src=\"ImagenActividadCajas.png\" width = \"75%\">\n",
    "</center>"
   ]
  },
  {
   "cell_type": "code",
   "execution_count": 8,
   "metadata": {},
   "outputs": [],
   "source": [
    "import seaborn as sns"
   ]
  },
  {
   "cell_type": "code",
   "execution_count": 20,
   "metadata": {},
   "outputs": [
    {
     "data": {
      "image/png": "[encoded data removed]",
      "text/plain": [
       "<Figure size 720x360 with 1 Axes>"
      ]
     },
     "metadata": {
      "needs_background": "light"
     },
     "output_type": "display_data"
    }
   ],
   "source": [
    "figure = plt.figure(figsize=(10,5))\n",
    "\n",
    "x= df.iloc[:,4]\n",
    "y= df.iloc[:,1]\n",
    "\n",
    "sns.boxplot(x=x, y=y)\n",
    "plt.grid(True)\n",
    "plt.xlabel('CONTINENTE')\n",
    "plt.ylabel('MENOS DE $1.9')\n",
    "plt.title( 'Gente viviendo con menos de $1.9 '+ 'Por continente')\n",
    "plt.savefig('Cajas_190_DanielJaraCordero_#1.png')\n",
    "plt.show()"
   ]
  },
  {
   "cell_type": "code",
   "execution_count": 21,
   "metadata": {},
   "outputs": [
    {
     "data": {
      "image/png": "[encoded data removed]",
      "text/plain": [
       "<Figure size 720x360 with 1 Axes>"
      ]
     },
     "metadata": {
      "needs_background": "light"
     },
     "output_type": "display_data"
    }
   ],
   "source": [
    "figure = plt.figure(figsize=(10,5))\n",
    "\n",
    "x=df.iloc[:,4]\n",
    "y=df.iloc[:,2]\n",
    "\n",
    "sns.boxplot(x=x,y=y)\n",
    "plt.grid(True)\n",
    "plt.xlabel('CONTINENTE')\n",
    "plt.ylabel('MENOS DE $3.2')\n",
    "plt.title('Gente viviendo con menos de $3.2 '+'Por continente')\n",
    "plt.savefig('Cajas_190_DanielJaraCordero_#2.png')\n",
    "plt.show()"
   ]
  },
  {
   "cell_type": "code",
   "execution_count": 22,
   "metadata": {},
   "outputs": [
    {
     "data": {
      "image/png": "[encoded data removed]",
      "text/plain": [
       "<Figure size 720x360 with 1 Axes>"
      ]
     },
     "metadata": {
      "needs_background": "light"
     },
     "output_type": "display_data"
    }
   ],
   "source": [
    "figure = plt.figure(figsize=(10,5))\n",
    "\n",
    "x=df.iloc[:,4]\n",
    "y=df.iloc[:,3]\n",
    "\n",
    "sns.boxplot(x=x,y=y)\n",
    "plt.grid(True)\n",
    "plt.xlabel('CONTINENTE')\n",
    "plt.ylabel('MENOS DE $5.5')\n",
    "plt.title('Gente viviendo con menos de $5.5 '+'Por continente')\n",
    "plt.savefig('Cajas_190_DanielJaraCordero_#3.png')\n",
    "plt.show()"
   ]
  },
  {
   "cell_type": "markdown",
   "metadata": {},
   "source": [
    "__Instrucción 6__\n",
    "\n",
    "<p style='text-align: justify;'>Escribe una conclusión por cada gráfica que hayas generado. En la conclusión debes interpretar los resultados obtenidos, es necesario incluir una comparación entre los países o continentes, según sea el caso. Debes resaltar por qué es relevante conocer esta información y qué aspectos te llamaron más la atención de los resultados.</p>"
   ]
  },
  {
   "cell_type": "markdown",
   "metadata": {},
   "source": [
    "HISTOGRAMA:\n",
    "\n",
    "En total hay 164 países registrados.\n",
    "\n",
    "Con el histograma se puede observar que hay alrededor de 94 países (aproximadamente 57.3% de los países) cuyo porcentaje de la población que vive con menos de $1.9 dólares está entre 0% y 5%. Es decir, en esos 94 países, al menos el 95% de la población vive con más de $1.9. \n",
    "\n",
    "La frecuencia acumulada de las primeras 3 barras (es decir la suma de los 94 países del primer bloque, 12 del segundo y 10 del tercero) es igual a 116 (70.7% de los países que conforman la lista). Observando el histograma podemos darnos cuenta entonces de que alrededor del 70.7% de los países, tienen entre 15% y 16% de su población viviendo con menos de $1.90 dólares. Por ende, el otro 29.3% de los países de la lista tienen a un porcentaje mayor de su población viviendo con menos de $1.90.\n",
    "\n",
    "Esta información es importante porque nos permite darnos cuenta de que aunque poco más de la mitad de los países tiene al menos al 95% de su población viviendo con más de $1.90 dólares, el resto de países, que son casi la mitad de los de la lista, tienen un porcentaje mayor de gente que no consigue ese ingreso. Ese es un ingreso muy bajo, por lo tanto, decir que la mayoría de países tienen un porcentaje bajo (5% o menos) de gente viviendo con ese ingreso, no es indicador de que la situación en esos países sea buena, solo significa que el 95% de la gente gana más de $1.90, pero sería conveniente hacer un análisis más profundo para saber qué tanto más.\n",
    "\n",
    "\n",
    "GRÁFICA 1:\n",
    "\n",
    "Lo primero que se puede observar en el primer diagrama de caja, es que los países africanos son los que tienen un mayor número de gente viviendo con menos de $1.90 en comparación con los demás continentes. El 75% de los países Africanos, tiene a la mitad de su población viviendo con menos de $1.90.\n",
    "\n",
    "A su vez, podemos ver que los países europeos son los que se encuentran en mejor situación. Tanto así que incluso los casos extremos o outliers en donde un mayor porcentaje de la gente vive con menos de ese ingreso, no llegan ni siquiera al 10$%. Para terminar con ese punto, podemos ver también que el 75% de los países europeos, tiene menos del 4% de su población viviendo con menos de $1.90, o lo que es igual, 75% de los países en Europa cuentan con un 96% de su población ganando más de esa cantidad. \n",
    "\n",
    "Esa información resulta muy útil para contrastar la situación en África y en Europa, y darnos cuenta de que la desigualdad entre ambos continentes es enorme. \n",
    "\n",
    "GRÁFICA 2: \n",
    "\n",
    "En la gráfica 2 nuevamente podemos observar que África es el continente más desfavorecido y Europa el que mejor situación económica tiene comparados con los otros. \n",
    "\n",
    "Sin embargo, algo interesante que se observa, es que tanto en Asia como en Oceanía alrededor del 75% de los países tienen al 40% de su población viviendo con menos de $3.2 dólares. \n",
    "\n",
    "Otra cosa que se puede notar con esta gráfica, es que en el caso de Asia el rango de porcentaje de población que vive con menos de ese salrio es muy grande. Es decir el valor mínimo está cerca de 0%, lo que significa que hay países cuya población casi en su totalidad (casi pero no 100%) gana más de $3.2. Sin embargo el valor máximo es de casi 90%, lo que quiere decir que hay algunos países en donde cerca del 90% de la población gana menos de $3.2. Algo similar sucede con Oceanía e incluso con África. \n",
    "\n",
    "Esta gráfica es importante porque nos permite ver que hay una gran desigualdad no solo entre continentes, sino entre países dentro de un mismo continente también. \n",
    "\n",
    "GRÁFICA 3: \n",
    "\n",
    "La gráfica 3 muestra el porcentaje de la población de los países que gana menos de $5.5 dólares. Nuevamente podemos ver que África es el continente que más países tiene con un alto porcentaje de la población ganando menos de esa cantidad. 50% de países Africanos presenta entre el 80% y 85% de su población ganando menos de $5.5. \n",
    "\n",
    "Otra cosa que se puede ver es que tanto en África como en Oceanía hay dos casos extremos. Son países que tienen cerca del 10% y 2% de su población ganando menos de $5.5 respectivamente. \n",
    "\n",
    "Algo importante que podemos recalcar es que al haberse aumentado el criterio del salario que persive la población, las cajas de la gráfica se movieron hacia arriba. Lo cual tiene sentido, pues gente que ganaba más que $1.9 o $3.2 no se mostraban en la gráfica, pero al cambiar el criterio del salario a un número más grande, el porcentaje de gente que gana eso o menos aumentará, por eso las cajas de la gráfica suben.  \n"
   ]
  },
  {
   "cell_type": "markdown",
   "metadata": {},
   "source": []
  },
  {
   "cell_type": "markdown",
   "metadata": {},
   "source": [
    "__Instrucción 7__\n",
    "\n",
    "<p style='text-align: justify;'>Guarda las imágenes de las cuatro gráficas y la libreta de Jupyter con las conclusiones generaradas y el respectivo código utilizado en una carpeta .zip y súbelo a la plataforma.</p>"
   ]
  },
  {
   "cell_type": "markdown",
   "metadata": {},
   "source": [
    "FUENTES ADICIONALES CONSULTADAS\n",
    "\n",
    "Matplotlib(s.f).Matplotlib.Ticker. https://matplotlib.org/stable/api/ticker_api.html\n",
    "\n",
    "Matplotlib(s.f).Tick locators. https://matplotlib.org/3.1.1/gallery/ticks_and_spines/tick-locators.html"
   ]
  },
  {
   "cell_type": "code",
   "execution_count": null,
   "metadata": {},
   "outputs": [],
   "source": []
  }
 ],
 "metadata": {
  "kernelspec": {
   "display_name": "Python 3",
   "language": "python",
   "name": "python3"
  },
  "language_info": {
   "codemirror_mode": {
    "name": "ipython",
    "version": 3
   },
   "file_extension": ".py",
   "mimetype": "text/x-python",
   "name": "python",
   "nbconvert_exporter": "python",
   "pygments_lexer": "ipython3",
   "version": "3.8.8"
  }
 },
 "nbformat": 4,
 "nbformat_minor": 2
}
